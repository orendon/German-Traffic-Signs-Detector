{
 "cells": [
  {
   "cell_type": "code",
   "execution_count": 2,
   "metadata": {},
   "outputs": [],
   "source": [
    "from sklearn.preprocessing import LabelEncoder, LabelBinarizer\n",
    "import tensorflow as tf"
   ]
  },
  {
   "cell_type": "code",
   "execution_count": 3,
   "metadata": {},
   "outputs": [],
   "source": [
    "# %load ../kiwi/dataloader.py\n",
    "import numpy as np\n",
    "import cv2\n",
    "import os\n",
    "import imghdr\n",
    "\n",
    "ROOT_PATH = os.path.abspath('../')\n",
    "\n",
    "def prepare_image(fullpath):\n",
    "  \"\"\" Resize the image, convert it to gray scale and flatten the array \"\"\"\n",
    "  image = cv2.imread(fullpath)\n",
    "  gray = cv2.cvtColor(image, cv2.COLOR_BGR2GRAY)\n",
    "  return cv2.resize(gray, (28, 28)).flatten()\n",
    "\n",
    "def from_folder(target_folder):\n",
    "  \"\"\" Transform the data into an input/output format suitable for model training\n",
    "  Images are loaded as arrays \"\"\"\n",
    "  data_dir = os.path.join(ROOT_PATH, target_folder)\n",
    "  classes = [c for c in os.listdir(data_dir)\n",
    "               if os.path.isdir(os.path.join(data_dir, c))]\n",
    "\n",
    "  print(\"Grabbing files for %s classes...\" % len(classes))\n",
    "  X_data = []\n",
    "  Y_data = []\n",
    "  for class_id in classes:\n",
    "    class_folder = os.path.join(data_dir, class_id)\n",
    "    for file in os.listdir(class_folder):\n",
    "      if os.path.basename(os.path.join(class_folder, file)): # images only\n",
    "        image_path = os.path.join(ROOT_PATH, data_dir, class_id, file)\n",
    "        X_data.append(prepare_image(image_path))\n",
    "        Y_data.append(int(class_id))\n",
    "\n",
    "  return np.array(X_data), np.array(Y_data)\n",
    "\n",
    "def from_infer_folder(target_folder):\n",
    "  \"\"\" Transform the data into a format suitable for model prediction \"\"\"\n",
    "  X_data = []\n",
    "  files = []\n",
    "  data_dir = os.path.join(ROOT_PATH, target_folder)\n",
    "  print(\"Loading images from\", data_dir)\n",
    "  for file in os.listdir(data_dir):\n",
    "    image_path = os.path.join(ROOT_PATH, data_dir, file)\n",
    "    if os.path.basename(image_path) and imghdr.what(image_path):\n",
    "      X_data.append(prepare_image(image_path))\n",
    "      files.append(image_path)\n",
    "  \n",
    "  print(\"Found %s file(s)\" % len(X_data))\n",
    "  return np.array(X_data), files"
   ]
  },
  {
   "cell_type": "code",
   "execution_count": 4,
   "metadata": {},
   "outputs": [
    {
     "name": "stdout",
     "output_type": "stream",
     "text": [
      "Grabbing files for 43 classes...\n",
      "Grabbing files for 43 classes...\n",
      "X: (954, 784), Y: (954,)\n",
      "Xt: (259, 784), Yt: (259,)\n"
     ]
    }
   ],
   "source": [
    "X_data, Y_data = from_folder('images/train')\n",
    "X_test, Y_test = from_folder('images/test')\n",
    "print('X: %s, Y: %s' % (X_data.shape, Y_data.shape))\n",
    "print('Xt: %s, Yt: %s' % (X_test.shape, Y_test.shape))"
   ]
  },
  {
   "cell_type": "code",
   "execution_count": 8,
   "metadata": {},
   "outputs": [
    {
     "data": {
      "text/plain": [
       "(954, 43)"
      ]
     },
     "execution_count": 8,
     "metadata": {},
     "output_type": "execute_result"
    }
   ],
   "source": [
    "# One-hot vector\n",
    "################\n",
    "\n",
    "classes = np.array(range(0,43))\n",
    "y_enc = LabelEncoder().fit_transform(classes)\n",
    "lblbin = LabelBinarizer().fit(y_enc)\n",
    "\n",
    "Y_data_bin = lblbin.transform(Y_data)\n",
    "Y_test_bin = lblbin.transform(Y_test)\n",
    "Y_data_bin.shape"
   ]
  },
  {
   "cell_type": "markdown",
   "metadata": {},
   "source": [
    "# Model training"
   ]
  },
  {
   "cell_type": "code",
   "execution_count": 9,
   "metadata": {},
   "outputs": [],
   "source": [
    "# Graph Definition\n",
    "##################\n",
    "\n",
    "LEARNING_RATE = 0.5 #1e-4\n",
    "NUM_EPOCHS = 1000\n",
    "\n",
    "samples, features = X_data.shape\n",
    "classes_length = classes.shape[0]\n",
    "\n",
    "tf.reset_default_graph()\n",
    "\n",
    "x = tf.placeholder(tf.float32, [None, features])\n",
    "y_ = tf.placeholder(tf.int32, [None, classes_length])\n",
    "\n",
    "W = tf.Variable(tf.zeros([features, classes_length]))\n",
    "b = tf.Variable(tf.zeros([classes_length]))\n",
    "# Y = Wx + b with softmax activiation function\n",
    "# y = tf.nn.softmax(tf.add(tf.matmul(x, W), b))\n",
    "y = tf.add(tf.matmul(x, W), b)\n",
    "\n",
    "# cross_entropy = tf.reduce_mean(-tf.reduce_sum(y_ * tf.log(y), reduction_indices=[1]))\n",
    "# train_step = tf.train.GradientDescentOptimizer(0.5).minimize(cross_entropy)\n",
    "\n",
    "# cost = tf.losses.sparse_softmax_cross_entropy(labels=y_, logits=y)\n",
    "cost = tf.nn.softmax_cross_entropy_with_logits(labels=y_, logits=y)\n",
    "optimizer = tf.train.GradientDescentOptimizer(learning_rate=LEARNING_RATE).minimize(cost)"
   ]
  },
  {
   "cell_type": "code",
   "execution_count": 10,
   "metadata": {},
   "outputs": [
    {
     "name": "stdout",
     "output_type": "stream",
     "text": [
      "Fitting the model...\n",
      "Epoch 100: cost=1322939264.0\n",
      "Epoch 200: cost=326918944.0\n",
      "Epoch 300: cost=17218750.0\n",
      "Epoch 400: cost=7253771.0\n",
      "Epoch 500: cost=4667388.0\n",
      "Epoch 600: cost=6332665.5\n",
      "Epoch 700: cost=1625696.0\n",
      "Epoch 800: cost=1800589.5\n",
      "Epoch 900: cost=0.0\n",
      "Epoch 1000: cost=0.0\n",
      "Model saved in path: /Users/orendon/dev/ml/German-Traffic-Signs-Detector/models/model2/saved/logittf\n",
      "\n",
      "Training-set accuracy: 1.0\n",
      "Test-set accuracy: 0.71428573\n"
     ]
    }
   ],
   "source": [
    "# Training\n",
    "##########\n",
    "\n",
    "saver = tf.train.Saver()\n",
    "model_target_path = os.path.join(ROOT_PATH, 'models/model2/saved/logittf')\n",
    "\n",
    "with tf.Session() as sess:\n",
    "    sess.run(tf.global_variables_initializer())\n",
    "    print('Fitting the model...')\n",
    "    for epoch in range(NUM_EPOCHS):\n",
    "        cost_in_each_epoch = 0\n",
    "\n",
    "        _, c = sess.run([optimizer, cost], feed_dict={x: X_data, y_: Y_data_bin})\n",
    "        cost_in_each_epoch += c\n",
    "\n",
    "        if (epoch+1) % 100 == 0:\n",
    "            print(\"Epoch {}:\".format(epoch + 1), \"cost={}\".format(cost_in_each_epoch.max()))\n",
    "\n",
    "    # Model persistence\n",
    "    save_path = saver.save(sess, model_target_path)\n",
    "    print(\"Model saved in path: %s\" % save_path)\n",
    "\n",
    "    # Evaluation\n",
    "    correct_prediction = tf.equal(tf.argmax(y, 1), tf.argmax(y_, 1))\n",
    "    accuracy = tf.reduce_mean(tf.cast(correct_prediction, tf.float32))\n",
    "    print(\"\\nTraining-set accuracy:\", accuracy.eval({x: X_data, y_: Y_data_bin}))\n",
    "    print(\"Test-set accuracy:\", accuracy.eval({x: X_test, y_: Y_test_bin}))"
   ]
  },
  {
   "cell_type": "markdown",
   "metadata": {},
   "source": [
    "# Predicting from saved model"
   ]
  },
  {
   "cell_type": "code",
   "execution_count": 11,
   "metadata": {},
   "outputs": [
    {
     "name": "stdout",
     "output_type": "stream",
     "text": [
      "Loading images from /Users/orendon/dev/ml/German-Traffic-Signs-Detector/images/user\n",
      "Found 2 file(s)\n",
      "INFO:tensorflow:Restoring parameters from /Users/orendon/dev/ml/German-Traffic-Signs-Detector/models/model2/saved/logittf\n",
      "\n",
      "Predicted classes [25  1]\n"
     ]
    }
   ],
   "source": [
    "tf.reset_default_graph()\n",
    "\n",
    "x = tf.placeholder(tf.float32, [None, features])\n",
    "y_ = tf.placeholder(tf.int32, [None, classes_length])\n",
    "\n",
    "W = tf.Variable(tf.zeros([features, classes_length]))\n",
    "b = tf.Variable(tf.zeros([classes_length]))\n",
    "y = tf.add(tf.matmul(x, W), b)\n",
    "\n",
    "cost = tf.nn.softmax_cross_entropy_with_logits(labels=y_, logits=y)\n",
    "optimizer = tf.train.GradientDescentOptimizer(learning_rate=LEARNING_RATE).minimize(cost)\n",
    "\n",
    "saver = tf.train.Saver()\n",
    "X_user, files = from_infer_folder('images/user')\n",
    "\n",
    "with tf.Session() as sess:\n",
    "    sess.run(tf.global_variables_initializer())\n",
    "    saver.restore(sess, model_target_path)\n",
    "    \n",
    "    prediction=tf.argmax(y, 1)\n",
    "    result = prediction.eval(feed_dict={x: X_user}, session=sess)\n",
    "    \n",
    "    print('\\nPredicted classes', result)"
   ]
  },
  {
   "cell_type": "code",
   "execution_count": null,
   "metadata": {},
   "outputs": [],
   "source": []
  }
 ],
 "metadata": {
  "kernelspec": {
   "display_name": "Python 3",
   "language": "python",
   "name": "python3"
  },
  "language_info": {
   "codemirror_mode": {
    "name": "ipython",
    "version": 3
   },
   "file_extension": ".py",
   "mimetype": "text/x-python",
   "name": "python",
   "nbconvert_exporter": "python",
   "pygments_lexer": "ipython3",
   "version": "3.6.3"
  }
 },
 "nbformat": 4,
 "nbformat_minor": 2
}
