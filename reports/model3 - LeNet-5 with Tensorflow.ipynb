{
 "cells": [
  {
   "cell_type": "code",
   "execution_count": 57,
   "metadata": {},
   "outputs": [],
   "source": [
    "from sklearn.preprocessing import LabelEncoder, LabelBinarizer\n",
    "from sklearn.utils import shuffle\n",
    "import tensorflow as tf\n",
    "from tensorflow.contrib.layers import flatten\n",
    "import matplotlib.pyplot as plt\n",
    "\n",
    "%matplotlib inline"
   ]
  },
  {
   "cell_type": "code",
   "execution_count": 176,
   "metadata": {},
   "outputs": [],
   "source": [
    "# %load ../kiwi/dataloader.py\n",
    "import numpy as np\n",
    "import cv2\n",
    "import os\n",
    "import imghdr\n",
    "import skimage\n",
    "\n",
    "ROOT_PATH = os.path.abspath('../')\n",
    "\n",
    "def prepare_image(fullpath):\n",
    "  \"\"\" Resize the image, convert it to gray scale and flatten the array \"\"\"\n",
    "  image = cv2.imread(fullpath, 0) # load as grayscale\n",
    "  resized = cv2.resize(image, (32,32))\n",
    "  final = resized[..., None] # add missing channel\n",
    "  return final\n",
    "\n",
    "def from_folder(target_folder):\n",
    "  \"\"\" Transform the data into an input/output format suitable for model training\n",
    "  Images are loaded as arrays \"\"\"\n",
    "  data_dir = os.path.join(ROOT_PATH, target_folder)\n",
    "  classes = [c for c in os.listdir(data_dir)\n",
    "               if os.path.isdir(os.path.join(data_dir, c))]\n",
    "\n",
    "  print(\"Grabbing files for %s classes...\" % len(classes))\n",
    "  X_data = []\n",
    "  Y_data = []\n",
    "  for class_id in classes:\n",
    "    class_folder = os.path.join(data_dir, class_id)\n",
    "    for file in os.listdir(class_folder):\n",
    "      if os.path.basename(os.path.join(class_folder, file)): # images only\n",
    "        image_path = os.path.join(ROOT_PATH, data_dir, class_id, file)\n",
    "        X_data.append(prepare_image(image_path))\n",
    "        Y_data.append(int(class_id))\n",
    "\n",
    "  return np.array(X_data), np.array(Y_data)\n",
    "\n",
    "def from_infer_folder(target_folder):\n",
    "  \"\"\" Transform the data into a format suitable for model prediction \"\"\"\n",
    "  X_data = []\n",
    "  files = []\n",
    "  data_dir = os.path.join(ROOT_PATH, target_folder)\n",
    "  print(\"Loading images from\", data_dir)\n",
    "  for file in os.listdir(data_dir):\n",
    "    image_path = os.path.join(ROOT_PATH, data_dir, file)\n",
    "    if os.path.basename(image_path) and imghdr.what(image_path):\n",
    "      X_data.append(prepare_image(image_path))\n",
    "      files.append(image_path)\n",
    "  \n",
    "  print(\"Found %s file(s)\" % len(X_data))\n",
    "  return np.array(X_data), files"
   ]
  },
  {
   "cell_type": "code",
   "execution_count": 177,
   "metadata": {},
   "outputs": [
    {
     "name": "stdout",
     "output_type": "stream",
     "text": [
      "Grabbing files for 43 classes...\n",
      "Grabbing files for 43 classes...\n",
      "X: (954, 32, 32, 1), Y: (954,)\n",
      "Xt: (259, 32, 32, 1), Yt: (259,)\n"
     ]
    }
   ],
   "source": [
    "X_data, Y_data = from_folder('images/train')\n",
    "X_test, Y_test = from_folder('images/test')\n",
    "print('X: %s, Y: %s' % (X_data.shape, Y_data.shape))\n",
    "print('Xt: %s, Yt: %s' % (X_test.shape, Y_test.shape))"
   ]
  },
  {
   "cell_type": "code",
   "execution_count": 178,
   "metadata": {},
   "outputs": [
    {
     "data": {
      "text/plain": [
       "(954, 43)"
      ]
     },
     "execution_count": 178,
     "metadata": {},
     "output_type": "execute_result"
    }
   ],
   "source": [
    "# One-hot vector\n",
    "################\n",
    "\n",
    "classes = np.array(range(0,43))\n",
    "y_enc = LabelEncoder().fit_transform(classes)\n",
    "lblbin = LabelBinarizer().fit(y_enc)\n",
    "\n",
    "Y_data_bin = lblbin.transform(Y_data)\n",
    "Y_test_bin = lblbin.transform(Y_test)\n",
    "Y_data_bin.shape"
   ]
  },
  {
   "cell_type": "markdown",
   "metadata": {},
   "source": [
    "# Model training"
   ]
  },
  {
   "cell_type": "code",
   "execution_count": 39,
   "metadata": {},
   "outputs": [
    {
     "name": "stdout",
     "output_type": "stream",
     "text": [
      "(3, 3)\n",
      "(5, 5)\n"
     ]
    }
   ],
   "source": [
    "# zero-pading wrapping\n",
    "arr = np.array([[1,1,1],[2,2,2],[3,3,3]])\n",
    "print(arr.shape)\n",
    "pad = np.pad(arr, 1, mode='constant', constant_values=0)\n",
    "print(pad.shape)"
   ]
  },
  {
   "cell_type": "code",
   "execution_count": 204,
   "metadata": {},
   "outputs": [],
   "source": [
    "# LeNet-5 Graph Definition\n",
    "##########################\n",
    "\n",
    "EPOCHS = 300\n",
    "BATCH_SIZE = 128\n",
    "CLASSES_SIZE = 43\n",
    "LEARNING_RATE = 0.001 #1e-4\n",
    "\n",
    "def LeNet(x):    \n",
    "    # Hyperparameters\n",
    "    mu = 0\n",
    "    sigma = 0.1\n",
    "    layer_units = {\n",
    "        'C1' : 6,\n",
    "        'C3' : 16,\n",
    "        'C5' : 120,\n",
    "        'F6' : 84,\n",
    "        'F7' : CLASSES_SIZE, # originally 10, changed to match Traffic Signs classes\n",
    "    }\n",
    "\n",
    "    # Layer 1: Convolutional. Input = 32x32x1. Output = 28x28x6.\n",
    "    C1_w = tf.Variable(tf.truncated_normal(shape=[5,5,1,6], mean=mu, stddev=sigma))\n",
    "    C1_b = tf.Variable(tf.zeros(layer_units['C1']))\n",
    "    C1 = tf.nn.conv2d(x, C1_w, strides=[1,1,1,1], padding='VALID') + C1_b \n",
    "    C1 = tf.nn.relu(C1)\n",
    "    \n",
    "    # Layer 2: Pooling. Input = 28x28x6. Output = 14x14x6.\n",
    "    S2 = tf.nn.max_pool(C1, ksize=[1,2,2,1], strides=[1,2,2,1], padding='VALID')\n",
    "    \n",
    "    # Layer 3: Convolutional. Output = 10x10x16.\n",
    "    C3_w = tf.Variable(tf.truncated_normal(shape=[5,5,6,16], mean=mu, stddev=sigma))\n",
    "    C3_b = tf.Variable(tf.zeros(layer_units['C3']))\n",
    "    C3 = tf.nn.conv2d(S2, C3_w, strides=[1,1,1,1], padding='VALID') + C3_b\n",
    "    C3 = tf.nn.relu(C3)\n",
    "    \n",
    "    # Layer 4: Pooling. Input = 10x10x16. Output = 5x5x16.\n",
    "    S4 = tf.nn.max_pool(C3, ksize=[1,2,2,1], strides=[1,2,2,1], padding='VALID')\n",
    "    \n",
    "    #Flatten. Input = 5x5x16. Output = 400.\n",
    "    C5 = flatten(S4)\n",
    "    \n",
    "    # Layer 5: Convolutional/Fully Connected. Input = 400. Output = 120.\n",
    "    # Feature map is 1x1 because S4 is also 5x5 (practically fully-connected unless LenNet grows)\n",
    "    C5_w = tf.Variable(tf.truncated_normal(shape=(400,120), mean=mu, stddev=sigma))\n",
    "    C5_b = tf.Variable(tf.zeros(layer_units['C5']))\n",
    "    C5 = tf.matmul(C5, C5_w) + C5_b\n",
    "    C5 = tf.nn.relu(C5)\n",
    "    \n",
    "    # Layer 6: Fully Connected. Input = 120. Output = 84.\n",
    "    F6_w = tf.Variable(tf.truncated_normal(shape=(120,84), mean=mu, stddev=sigma))\n",
    "    F6_b = tf.Variable(tf.zeros(layer_units['F6']))\n",
    "    F6 = tf.matmul(C5, F6_w) + F6_b\n",
    "    F6 = tf.nn.relu(F6)\n",
    "    \n",
    "    # Layer 7: Fully Connected. Input = 84. Output = 43 (Originally 10).\n",
    "    F7_w = tf.Variable(tf.truncated_normal(shape=(84,CLASSES_SIZE), mean=mu , stddev=sigma))\n",
    "    F7_b = tf.Variable(tf.zeros(layer_units['F7']))\n",
    "    logits = tf.matmul(F6, F7_w) + F7_b\n",
    "    \n",
    "    return logits"
   ]
  },
  {
   "cell_type": "code",
   "execution_count": 193,
   "metadata": {},
   "outputs": [],
   "source": [
    "x = tf.placeholder(tf.float32, (None, 32, 32, 1))\n",
    "y = tf.placeholder(tf.int32, (None))\n",
    "one_hot_y = tf.one_hot(y, CLASSES_SIZE)\n",
    "\n",
    "logits = LeNet(x)\n",
    "cross_entropy = tf.nn.softmax_cross_entropy_with_logits_v2(logits=logits, labels=one_hot_y)\n",
    "loss_operation = tf.reduce_mean(cross_entropy)\n",
    "optimizer = tf.train.AdamOptimizer(learning_rate=LEARNING_RATE)\n",
    "training_operation = optimizer.minimize(loss_operation)"
   ]
  },
  {
   "cell_type": "code",
   "execution_count": 194,
   "metadata": {},
   "outputs": [],
   "source": [
    "correct_prediction = tf.equal(tf.argmax(logits, 1), tf.argmax(one_hot_y, 1))\n",
    "accuracy_operation = tf.reduce_mean(tf.cast(correct_prediction, tf.float32))\n",
    "saver = tf.train.Saver()\n",
    "\n",
    "def evaluate(X_data, y_data):\n",
    "    num_examples = len(X_data)\n",
    "    total_accuracy = 0\n",
    "    sess = tf.get_default_session()\n",
    "    for offset in range(0, num_examples, BATCH_SIZE):\n",
    "        batch_x, batch_y = X_data[offset:offset+BATCH_SIZE], y_data[offset:offset+BATCH_SIZE]\n",
    "        accuracy = sess.run(accuracy_operation, feed_dict={x: batch_x, y: batch_y})\n",
    "        total_accuracy += (accuracy * len(batch_x))\n",
    "    return total_accuracy / num_examples"
   ]
  },
  {
   "cell_type": "code",
   "execution_count": 216,
   "metadata": {},
   "outputs": [
    {
     "name": "stdout",
     "output_type": "stream",
     "text": [
      "Training model...\n",
      "Epoch 10, Accuracy = 40.93%\n",
      "Epoch 20, Accuracy = 71.43%\n",
      "Epoch 30, Accuracy = 73.75%\n",
      "Epoch 40, Accuracy = 72.97%\n",
      "Epoch 50, Accuracy = 77.61%\n",
      "Epoch 60, Accuracy = 78.76%\n",
      "Epoch 70, Accuracy = 79.15%\n",
      "Epoch 80, Accuracy = 79.54%\n",
      "Epoch 90, Accuracy = 79.54%\n",
      "Epoch 100, Accuracy = 79.15%\n",
      "Epoch 110, Accuracy = 78.76%\n",
      "Epoch 120, Accuracy = 79.15%\n",
      "Epoch 130, Accuracy = 79.92%\n",
      "Epoch 140, Accuracy = 80.31%\n",
      "Epoch 150, Accuracy = 80.31%\n",
      "Epoch 160, Accuracy = 80.31%\n",
      "Epoch 170, Accuracy = 80.31%\n",
      "Epoch 180, Accuracy = 80.31%\n",
      "Epoch 190, Accuracy = 79.92%\n",
      "Epoch 200, Accuracy = 79.92%\n",
      "Epoch 210, Accuracy = 79.92%\n",
      "Epoch 220, Accuracy = 80.31%\n",
      "Epoch 230, Accuracy = 80.31%\n",
      "Epoch 240, Accuracy = 80.31%\n",
      "Epoch 250, Accuracy = 80.31%\n",
      "Epoch 260, Accuracy = 80.31%\n",
      "Epoch 270, Accuracy = 80.31%\n",
      "Epoch 280, Accuracy = 80.69%\n",
      "Epoch 290, Accuracy = 80.69%\n",
      "Epoch 300, Accuracy = 80.69%\n",
      "Model persisted at /Users/orendon/dev/ml/German-Traffic-Signs-Detector/models/model3/saved/lenet5\n"
     ]
    }
   ],
   "source": [
    "model_target_path = os.path.join(ROOT_PATH, 'models/model3/saved/lenet5')\n",
    "\n",
    "train_acc = []\n",
    "test_acc = []\n",
    "\n",
    "with tf.Session() as sess:\n",
    "    sess.run(tf.global_variables_initializer())\n",
    "    num_examples = len(X_data)\n",
    "  \n",
    "    print(\"Training model...\")\n",
    "    for i in range(EPOCHS):\n",
    "        X_train, y_train = shuffle(X_data, Y_data)\n",
    "        for offset in range(0, num_examples, BATCH_SIZE):\n",
    "            end = offset + BATCH_SIZE\n",
    "            batch_x, batch_y = X_data[offset:end], Y_data[offset:end]\n",
    "            sess.run(training_operation, feed_dict={x: batch_x, y: batch_y})\n",
    "        \n",
    "            # plot data\n",
    "            train_acc.append(evaluate(X_data, Y_data))\n",
    "            test_acc.append(evaluate(X_test, Y_test))\n",
    "       \n",
    "        if (i+1) % 10 == 0:\n",
    "            validation_accuracy = evaluate(X_test, Y_test)\n",
    "            print(\"Epoch {}, Accuracy = {:.2f}%\".format(i+1, validation_accuracy*100))\n",
    "        \n",
    "    saved_path = saver.save(sess, model_target_path)\n",
    "    print(\"Model persisted at\", saved_path)"
   ]
  },
  {
   "cell_type": "code",
   "execution_count": 218,
   "metadata": {},
   "outputs": [
    {
     "data": {
      "image/png": "[encoded data removed]",
      "text/plain": [
       "<Figure size 432x288 with 1 Axes>"
      ]
     },
     "metadata": {},
     "output_type": "display_data"
    }
   ],
   "source": [
    "plt.plot(train_acc, 'b-', label='train accuracy')\n",
    "plt.plot(test_acc, 'k-', label='test accuracy')\n",
    "plt.xlabel('epoch')\n",
    "plt.ylabel('accuracy')\n",
    "plt.title('Train and Test Accuracy')\n",
    "plt.legend(loc='best')\n",
    "plt.show()"
   ]
  }
 ],
 "metadata": {
  "kernelspec": {
   "display_name": "Python 3",
   "language": "python",
   "name": "python3"
  },
  "language_info": {
   "codemirror_mode": {
    "name": "ipython",
    "version": 3
   },
   "file_extension": ".py",
   "mimetype": "text/x-python",
   "name": "python",
   "nbconvert_exporter": "python",
   "pygments_lexer": "ipython3",
   "version": "3.6.3"
  }
 },
 "nbformat": 4,
 "nbformat_minor": 2
}
